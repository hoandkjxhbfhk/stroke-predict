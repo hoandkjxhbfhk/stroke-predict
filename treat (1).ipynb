{
 "cells": [
  {
   "cell_type": "code",
   "execution_count": 1,
   "metadata": {},
   "outputs": [],
   "source": [
    "import pandas as pd\n",
    "import numpy as np\n",
    "from sklearn.model_selection import train_test_split\n",
    "from imblearn.over_sampling import SMOTE\n",
    "from sklearn.preprocessing import LabelEncoder"
   ]
  },
  {
   "cell_type": "code",
   "execution_count": 3,
   "metadata": {},
   "outputs": [],
   "source": [
    "dataset = pd.read_csv('healthcare-dataset-stroke-data.csv')\n",
    "\n",
    "# HANDLE NAN\n",
    "dataset.bmi.replace(to_replace=np.nan, value=dataset.bmi.mean(), inplace=True)\n",
    "\n",
    "#BINARY ENCODING\n",
    "dataset['gender']=dataset['gender'].apply(lambda x : 1 if x=='Male' else 0) \n",
    "dataset[\"Residence_type\"] = dataset[\"Residence_type\"].apply(lambda x: 1 if x==\"Urban\" else 0)\n",
    "dataset[\"ever_married\"] = dataset[\"ever_married\"].apply(lambda x: 1 if x==\"Yes\" else 0)\n",
    "\n",
    "# ONEHOT ENCODING\n",
    "label_encoder_smoke = LabelEncoder()\n",
    "label_encoder_work = LabelEncoder()\n",
    "dataset['smoking_status'] = label_encoder_smoke.fit_transform(dataset['smoking_status'])\n",
    "dataset['work_type'] = label_encoder_work.fit_transform(dataset['work_type'])\n",
    "#print(\"Classes for 'smoking_status' (alphabetical order):\", label_encoder_smoke.classes_)\n",
    "#print(\"Classes for 'work_type' (alphabetical order):\", label_encoder_work.classes_)\n",
    "\n",
    "y=dataset['stroke']\n",
    "dataset.drop(columns=['stroke'],inplace=True)\n",
    "x=dataset\n",
    "\n",
    "# SPLIT\n",
    "x_train, x_tmp, y_train, y_tmp = train_test_split(x, y, train_size= 0.5, random_state = 0)\n",
    "\n",
    "# SMOTE\n",
    "sm = SMOTE(random_state=2)\n",
    "x_train_res, y_train_res = sm.fit_resample(x_train, y_train)\n",
    "\n",
    "# Kết hợp lại các DataFrame và Series\n",
    "x_combined = pd.concat([x_train_res, x_tmp], axis=0)\n",
    "y_combined = pd.concat([y_train_res, y_tmp], axis=0)\n",
    "\n",
    "# Kết hợp lại thành một DataFrame duy nhất\n",
    "dataset_combined = pd.concat([x_combined, y_combined], axis=1)\n",
    "\n",
    "# Ánh xạ ngược lại cho cột 'gender'\n",
    "gender_mapping = {1: 'Male', 0: 'Female'}\n",
    "dataset_combined['gender'] = dataset_combined['gender'].map(gender_mapping)\n",
    "\n",
    "# Ánh xạ ngược lại cho cột 'Residence_type'\n",
    "residence_type_mapping = {1: 'Urban', 0: 'Rural'}\n",
    "dataset_combined['Residence_type'] = dataset_combined['Residence_type'].map(residence_type_mapping)\n",
    "\n",
    "# Ánh xạ ngược lại cho cột 'smoking_status'\n",
    "smoking_status_mapping = {0: 'Unknown', 1: 'formerly smoked', 2: 'never smoked', 3: 'smokes'}\n",
    "dataset_combined['smoking_status'] = dataset_combined['smoking_status'].map(smoking_status_mapping)\n",
    "\n",
    "# Ánh xạ ngược lại cho cột 'ever_married'\n",
    "ever_married_mapping = {1: 'Yes', 0: 'No'}\n",
    "dataset_combined['ever_married'] = dataset_combined['ever_married'].map(ever_married_mapping)\n",
    "\n",
    "# Ánh xạ ngược lại cho cột 'work_type'\n",
    "work_type_mapping = {0: 'Govt_job', 1: 'Never_worked', 2: 'Private', 3: 'Self-employed', 4: 'children'}\n",
    "dataset_combined['work_type'] = dataset_combined['work_type'].map(work_type_mapping)\n",
    "\n",
    "dataset_combined['bmi'].replace(28.893236911794666, np.nan, inplace=True)\n",
    "# Lưu DataFrame kết hợp thành tệp CSV mới\n",
    "dataset_combined.to_csv(\"combined_dataset.csv\", index=False)"
   ]
  },
  {
   "cell_type": "code",
   "execution_count": null,
   "metadata": {},
   "outputs": [],
   "source": []
  }
 ],
 "metadata": {
  "kernelspec": {
   "display_name": "base",
   "language": "python",
   "name": "python3"
  },
  "language_info": {
   "codemirror_mode": {
    "name": "ipython",
    "version": 3
   },
   "file_extension": ".py",
   "mimetype": "text/x-python",
   "name": "python",
   "nbconvert_exporter": "python",
   "pygments_lexer": "ipython3",
   "version": "3.11.4"
  }
 },
 "nbformat": 4,
 "nbformat_minor": 2
}
