{
 "cells": [
  {
   "cell_type": "code",
   "execution_count": 2,
   "metadata": {},
   "outputs": [],
   "source": [
    "import pandas as pd\n",
    "from sklearn.model_selection import train_test_split\n",
    "from imblearn.over_sampling import SMOTE\n",
    "from sklearn.preprocessing import LabelEncoder\n",
    "import numpy as np"
   ]
  },
  {
   "cell_type": "code",
   "execution_count": 4,
   "metadata": {},
   "outputs": [],
   "source": [
    "dataset = pd.read_csv('healthcare-dataset-stroke-data.csv')\n",
    "\n",
    "# HANDLE NAN\n",
    "dataset.bmi.replace(to_replace=np.nan, value=dataset.bmi.mean(), inplace=True)\n",
    "\n",
    "#BINARY ENCODING\n",
    "dataset['gender']=dataset['gender'].apply(lambda x : 1 if x=='Male' else 0) \n",
    "dataset[\"Residence_type\"] = dataset[\"Residence_type\"].apply(lambda x: 1 if x==\"Urban\" else 0)\n",
    "dataset[\"ever_married\"] = dataset[\"ever_married\"].apply(lambda x: 1 if x==\"Yes\" else 0)\n",
    "\n",
    "# ONEHOT ENCODING\n",
    "label_encoder = LabelEncoder()\n",
    "dataset['smoking_status'] = label_encoder.fit_transform(dataset['smoking_status'])\n",
    "dataset['work_type'] = label_encoder.fit_transform(dataset['work_type'])\n",
    "\n",
    "y=dataset['stroke']\n",
    "dataset.drop(columns=['stroke'],inplace=True)\n",
    "x=dataset\n",
    "\n",
    "# SPLIT\n",
    "x_train, x_tmp, y_train, y_tmp = train_test_split(x, y, train_size= 0.5, random_state = 0)\n",
    "\n",
    "# SMOTE\n",
    "sm = SMOTE(random_state=2)\n",
    "x_train_res, y_train_res = sm.fit_resample(x_train, y_train)\n",
    "\n",
    "# Kết hợp lại các DataFrame và Series\n",
    "x_combined = pd.concat([x_train_res, x_tmp], axis=0)\n",
    "y_combined = pd.concat([y_train_res, y_tmp], axis=0)\n",
    "\n",
    "# Kết hợp lại thành một DataFrame duy nhất\n",
    "dataset_combined = pd.concat([x_combined, y_combined], axis=1)\n",
    "\n",
    "# Lưu DataFrame kết hợp thành tệp CSV mới\n",
    "dataset_combined.to_csv(\"combined_dataset.csv\", index=False)"
   ]
  },
  {
   "cell_type": "code",
   "execution_count": 3,
   "metadata": {},
   "outputs": [],
   "source": [
    "dataset = pd.read_csv('combined_dataset.csv')"
   ]
  },
  {
   "cell_type": "code",
   "execution_count": null,
   "metadata": {},
   "outputs": [],
   "source": []
  }
 ],
 "metadata": {
  "kernelspec": {
   "display_name": "base",
   "language": "python",
   "name": "python3"
  },
  "language_info": {
   "codemirror_mode": {
    "name": "ipython",
    "version": 3
   },
   "file_extension": ".py",
   "mimetype": "text/x-python",
   "name": "python",
   "nbconvert_exporter": "python",
   "pygments_lexer": "ipython3",
   "version": "3.11.4"
  }
 },
 "nbformat": 4,
 "nbformat_minor": 2
}
